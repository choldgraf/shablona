{
  "metadata": {
    "language_info": {
      "pygments_lexer": "ipython3",
      "nbconvert_exporter": "python",
      "file_extension": ".py",
      "name": "python",
      "mimetype": "text/x-python",
      "version": "3.5.3",
      "codemirror_mode": {
        "name": "ipython",
        "version": 3
      }
    },
    "kernelspec": {
      "name": "python3",
      "display_name": "Python 3",
      "language": "python"
    }
  },
  "cells": [
    {
      "outputs": [],
      "cell_type": "code",
      "source": [
        "%matplotlib inline"
      ],
      "execution_count": null,
      "metadata": {
        "collapsed": false
      }
    },
    {
      "source": [
        "\n# Fitting a function with shablona\n\n\nShablona contains a number of tools for fitting functions to\ndata. This example shows us how to load data into python, fit\na function to our datapoints with shablona, and then plot the\nresult.\n\nThis example is meant to demonstrate the functionality of\nsphinx-gallery, which allows you to generate narrative-style\ndocuments from python files.\n\n"
      ],
      "cell_type": "markdown",
      "metadata": {}
    },
    {
      "outputs": [],
      "cell_type": "code",
      "source": [
        "import os.path as op\nimport numpy as np\nimport matplotlib.pyplot as plt\nimport shablona as sb\nplt.style.use('ggplot')"
      ],
      "execution_count": null,
      "metadata": {
        "collapsed": false
      }
    },
    {
      "source": [
        "Loading data\n------------\n\nFirst, we'll load some data into shablona.\n\n"
      ],
      "cell_type": "markdown",
      "metadata": {}
    },
    {
      "outputs": [],
      "cell_type": "code",
      "source": [
        "data_path = op.join(sb.__path__[0], 'data')\n\northo_x, ortho_y, ortho_n = sb.transform_data(op.join(data_path, 'ortho.csv'))\npara_x, para_y, para_n = sb.transform_data(op.join(data_path, 'para.csv'))"
      ],
      "execution_count": null,
      "metadata": {
        "collapsed": false
      }
    },
    {
      "source": [
        "Fitting a model\n---------------\n\nWith shablona, models are created with the :ref:Model class.\nThis class has a `fit` method that returns the coefficients for the given\ninput data.\n\n"
      ],
      "cell_type": "markdown",
      "metadata": {}
    },
    {
      "outputs": [],
      "cell_type": "code",
      "source": [
        "# Instantiate our model and fit it on two datasets\nmodel = sb.Model()\northo_fit = model.fit(ortho_x, ortho_y)\npara_fit = model.fit(para_x, para_y)\n\n# These are the parameters that our model has discovered\nprint(ortho_fit.params)\nprint(para_fit.params)"
      ],
      "execution_count": null,
      "metadata": {
        "collapsed": false
      }
    },
    {
      "source": [
        "Visualizing results\n-------------------\n\nNow we will visualize the results of our model fit. We'll generate\na vector of input points, and use them to determine the model's output\nfor each input. Then we'll plot what these curves look like.\n\n"
      ],
      "cell_type": "markdown",
      "metadata": {}
    },
    {
      "outputs": [],
      "cell_type": "code",
      "source": [
        "# Create figure and generate input points\nfig, ax = plt.subplots(1)\nx_predict = np.linspace(0, 1, 100)\n\n# Make the first plot\nfor x, y, n in zip(ortho_x, ortho_y, ortho_n):\n    ax.plot(x, y, 'bo', markersize=n)\n    ax.plot(x_predict, ortho_fit.predict(x_predict), 'b')\n\n# Make the second plot\nfor x, y, n in zip(para_x, para_y, para_n):\n    ax.plot(x, y, 'go', markersize=n)\n    ax.plot(x_predict, para_fit.predict(x_predict), 'g')\n\nax.set_xlabel('Contrast in interval 1')\nax.set_ylabel(\"Proportion answers '1'\")\nax.set_ylim([-0.1, 1.1])\nax.set_xlim([-0.1, 1.1])\nfig.set_size_inches([8, 8])"
      ],
      "execution_count": null,
      "metadata": {
        "collapsed": false
      }
    }
  ],
  "nbformat": 4,
  "nbformat_minor": 0
}